{
 "cells": [
  {
   "cell_type": "raw",
   "metadata": {
    "vscode": {
     "languageId": "raw"
    }
   },
   "source": [
    "---\n",
    "layout: post\n",
    "title: 3.8 Hacks\n",
    "description: Hacks\n",
    "permalink: /hacks/\n",
    "menu: Menu/menu.html\n",
    "---"
   ]
  },
  {
   "cell_type": "markdown",
   "metadata": {},
   "source": [
    "# Hack #1 While loops\n",
    "\n",
    "Create a python script that asks a user for a password in the terminal, then if the password is correct, it prints out that the password is correct.\n",
    "\n",
    "If the password is incorrect it asks for the password again.\n",
    "\n",
    "### Tips\n",
    "\n",
    "Use a while loop and if statements to check if the password is correct, \n",
    "\n",
    "If it is correct, then make the condition of the while loop false\n",
    "\n",
    "### How to do user input in python\n",
    "\n",
    "You first must have a variable or be declaring a variable when asking for user input\n",
    "\n",
    "You also have to have a prompt for the user\n",
    "\n",
    "Syntax looks like this"
   ]
  },
  {
   "cell_type": "code",
   "execution_count": 3,
   "metadata": {},
   "outputs": [
    {
     "name": "stdout",
     "output_type": "stream",
     "text": [
      "hello, weston\n"
     ]
    }
   ],
   "source": [
    "name = input(\"Enter your name: \")\n",
    "\n",
    "print (\"hello,\", name)"
   ]
  },
  {
   "cell_type": "markdown",
   "metadata": {},
   "source": [
    "### How to do if/else statements in python\n",
    "\n",
    "If statements are simply made up of conditions and blocks of code\n",
    "\n",
    "If the condition is true, then the code is run\n",
    "\n",
    "if it is not, then the else code is run"
   ]
  },
  {
   "cell_type": "code",
   "execution_count": 2,
   "metadata": {},
   "outputs": [
    {
     "name": "stdout",
     "output_type": "stream",
     "text": [
      "true\n"
     ]
    }
   ],
   "source": [
    "x = 5\n",
    "y = 2\n",
    "\n",
    "if x + y == 7:\n",
    "    print(\"true\")\n",
    "\n",
    "else:\n",
    "    print(\"false\")"
   ]
  },
  {
   "cell_type": "markdown",
   "metadata": {},
   "source": [
    "# Hack #2 For loops\n",
    "\n",
    "Create python script that asks for a user's name\n",
    "\n",
    "Then iterate through the name and print it out letter by letter through the terminal\n",
    "\n",
    "### Tips\n",
    "\n",
    "Use a for loop, this one should be pretty easy"
   ]
  },
  {
   "cell_type": "markdown",
   "metadata": {},
   "source": [
    "# Hack #3 For loops with lists\n",
    "\n",
    "Create a python script that has a list of at least 7 different fruits\n",
    "\n",
    "then create a for loop that iterates through that list and prints out each fruit seperate to the terminal\n",
    "\n",
    "### tips\n",
    "\n",
    "refer to 3.8.4 for basics on how to do this"
   ]
  }
 ],
 "metadata": {
  "kernelspec": {
   "display_name": "Python 3",
   "language": "python",
   "name": "python3"
  },
  "language_info": {
   "codemirror_mode": {
    "name": "ipython",
    "version": 3
   },
   "file_extension": ".py",
   "mimetype": "text/x-python",
   "name": "python",
   "nbconvert_exporter": "python",
   "pygments_lexer": "ipython3",
   "version": "3.10.12"
  }
 },
 "nbformat": 4,
 "nbformat_minor": 2
}
