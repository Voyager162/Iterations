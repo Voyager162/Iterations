{
 "cells": [
  {
   "cell_type": "markdown",
   "metadata": {},
   "source": []
  },
  {
   "cell_type": "code",
   "execution_count": null,
   "metadata": {
    "vscode": {
     "languageId": "html"
    }
   },
   "outputs": [],
   "source": [
    "<h2>Looping with lists, dictionaries, and indexes</h2>"
   ]
  },
  {
   "cell_type": "code",
   "execution_count": null,
   "metadata": {},
   "outputs": [],
   "source": [
    "names = [\"John\", \"Abraham\", \"Bill\", \"Henry\"]\n",
    "\n",
    "for name in names:\n",
    "    print(name)"
   ]
  },
  {
   "cell_type": "code",
   "execution_count": 2,
   "metadata": {},
   "outputs": [
    {
     "name": "stdout",
     "output_type": "stream",
     "text": [
      "John is 15\n",
      "Abraham is 17\n",
      "Bill is 14\n",
      "Henry is 16\n"
     ]
    }
   ],
   "source": [
    "student_info = {\n",
    "    \"John\": 15,\n",
    "    \"Abraham\": 17,\n",
    "    \"Bill\": 14,\n",
    "    \"Henry\": 16\n",
    "}\n",
    "\n",
    "for name, age in student_info.items():\n",
    "    print(f\"{name} is {age}\")"
   ]
  },
  {
   "cell_type": "code",
   "execution_count": null,
   "metadata": {},
   "outputs": [],
   "source": [
    "test_string = \"This is a test string\"\n",
    "\n",
    "for index in len(test_string):\n",
    "    print(test_string[index])"
   ]
  }
 ],
 "metadata": {
  "kernelspec": {
   "display_name": "Python 3",
   "language": "python",
   "name": "python3"
  },
  "language_info": {
   "codemirror_mode": {
    "name": "ipython",
    "version": 3
   },
   "file_extension": ".py",
   "mimetype": "text/x-python",
   "name": "python",
   "nbconvert_exporter": "python",
   "pygments_lexer": "ipython3",
   "version": "3.12.3"
  }
 },
 "nbformat": 4,
 "nbformat_minor": 2
}
