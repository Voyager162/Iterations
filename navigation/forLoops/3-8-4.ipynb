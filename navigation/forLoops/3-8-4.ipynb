{
 "cells": [
  {
   "cell_type": "code",
   "execution_count": null,
   "metadata": {
    "vscode": {
     "languageId": "html"
    }
   },
   "outputs": [],
   "source": [
    "<h2>Basics of For Loops</h2>"
   ]
  },
  {
   "cell_type": "code",
   "execution_count": null,
   "metadata": {
    "vscode": {
     "languageId": "html"
    }
   },
   "outputs": [],
   "source": [
    "<p>For loops can be used to iterate through a list or to go through a range of numbers.</p>\n",
    "<p>This can be very useful if you want to get each single element of a list or dictionary or even a string. </p>\n",
    "<p>In some cases, a for loop and a while loop can both be used.</p>\n"
   ]
  },
  {
   "cell_type": "code",
   "execution_count": null,
   "metadata": {},
   "outputs": [],
   "source": [
    "for letter in \"teststring\":\n",
    "    print(letter)"
   ]
  },
  {
   "cell_type": "code",
   "execution_count": null,
   "metadata": {
    "vscode": {
     "languageId": "javascript"
    }
   },
   "outputs": [],
   "source": [
    "for (let letter of \"teststring\") {\n",
    "    console.log(letter);\n",
    "}"
   ]
  },
  {
   "cell_type": "code",
   "execution_count": null,
   "metadata": {
    "vscode": {
     "languageId": "html"
    }
   },
   "outputs": [],
   "source": [
    "<p>The first piece of code is in python and the second is in javascript.</p>\n",
    "<p>Let's breakdown the python code: <br>\n",
    "    The first part of the python code is 'for'. The 'for' signifies the start of the loop and that it is a for loop. <br>\n",
    "    Then, we create a temporary variable 'letter' that will represent the value for each iteration. <br>\n",
    "    Next, we say 'in' followed by a string in this case, but it can be a variable or range as well. <br>\n",
    "    Then, in each iteration, we choose to print our temporary variable 'letter'. <br>\n",
    "    <br>\n",
    "    The for loop will go through each letter in our string and save it as 'letter' in each iteration. Then it will print that letter. <br>\n",
    "    Each new iteration will give 'letter' a new value. \n",
    "</p>\n",
    "<p>\n",
    "    Next, the javascript part. The first part of the code is again for, creating a for loop. <br>\n",
    "    Then, we write 'let letter'. This is creating a temporary variable lettere. We write let just as when defining a variable in math. <br>\n",
    "    'in' is replaced by 'of' in javascript. \n",
    "    Finally, 'console.log' sends a given message to the console.\n",
    "</p>"
   ]
  }
 ],
 "metadata": {
  "language_info": {
   "name": "python"
  }
 },
 "nbformat": 4,
 "nbformat_minor": 2
}
