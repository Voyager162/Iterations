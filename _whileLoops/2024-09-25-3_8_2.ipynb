{
 "cells": [
  {
   "cell_type": "raw",
   "metadata": {
    "vscode": {
     "languageId": "raw"
    }
   },
   "source": [
    "---\n",
    "layout: post\n",
    "title: 3.8.2 While loops\n",
    "description: While loops nesting\n",
    "permalink: /3.8.2/\n",
    "menu: Menu/menu.html\n",
    "---"
   ]
  },
  {
   "cell_type": "markdown",
   "metadata": {},
   "source": [
    "## Basic Overview\n",
    "\n",
    "Nesting is a term used when we use multiple loops inside of each other\n",
    "\n",
    "Used when you want to you a loop multiple sets of times each set with different values\n",
    "\n",
    "Many other versatile uses\n",
    "\n",
    "\n",
    "## Pseudocode Example \n"
   ]
  }
 ],
 "metadata": {
  "kernelspec": {
   "display_name": "Python 3",
   "language": "python",
   "name": "python3"
  },
  "language_info": {
   "codemirror_mode": {
    "name": "ipython",
    "version": 3
   },
   "file_extension": ".py",
   "mimetype": "text/x-python",
   "name": "python",
   "nbconvert_exporter": "python",
   "pygments_lexer": "ipython3",
   "version": "3.10.12"
  }
 },
 "nbformat": 4,
 "nbformat_minor": 2
}
