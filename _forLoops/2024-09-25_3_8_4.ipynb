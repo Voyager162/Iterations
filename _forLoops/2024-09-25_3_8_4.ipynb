{
 "cells": [
  {
   "cell_type": "raw",
   "metadata": {
    "vscode": {
     "languageId": "raw"
    }
   },
   "source": [
    "---\n",
    "layout: post\n",
    "title: 3.8.4 For Loops\n",
    "description: Looping with strings, dictionaries, and indexes\n",
    "permalink: /3.8.4/\n",
    "menu: Menu/menu.html\n",
    "---"
   ]
  },
  {
   "cell_type": "markdown",
   "metadata": {
    "vscode": {
     "languageId": "html"
    }
   },
   "source": [
    "## Looping with lists and dictionaries and index and range"
   ]
  },
  {
   "cell_type": "markdown",
   "metadata": {},
   "source": [
    "### Overview"
   ]
  },
  {
   "cell_type": "markdown",
   "metadata": {},
   "source": [
    "For loops can be used to get each element of a string or dictionary, which can be very useful\n",
    "\n",
    "\n",
    "You can also use the range function with for loops and call on an element with its index"
   ]
  },
  {
   "cell_type": "code",
   "execution_count": null,
   "metadata": {},
   "outputs": [],
   "source": [
    "names = [\"John\", \"Abraham\", \"Bill\", \"Henry\"]\n",
    "\n",
    "for name in names:\n",
    "    print(name)"
   ]
  },
  {
   "cell_type": "markdown",
   "metadata": {},
   "source": [
    "In this example, we first created a list. Then, using the for loop, we iterate through each index of the list. For each iteration, we print the corresponding name in our list. So, on the first iteration, we will print the first name in our list. "
   ]
  },
  {
   "cell_type": "code",
   "execution_count": null,
   "metadata": {},
   "outputs": [],
   "source": [
    "student_info = {\n",
    "    \"John\": 15,\n",
    "    \"Abraham\": 17,\n",
    "    \"Bill\": 14,\n",
    "    \"Henry\": 16\n",
    "}\n",
    "\n",
    "print(student_info.items())\n",
    "\n",
    "for name, age in student_info.items():\n",
    "    print(f\"{name} is {age}\")"
   ]
  },
  {
   "cell_type": "markdown",
   "metadata": {},
   "source": [
    "This is a bit more complicated. Instead of one temporary variable, we create two because we want to take two different values from the dictionary in each iteration. The name is the item in the dictionary and the age is the value. As you see in the list of items in the dictionary, since each item has two values, we can use two variables to get each. Then, we use a formatted string to print the name and age of each student."
   ]
  },
  {
   "cell_type": "code",
   "execution_count": null,
   "metadata": {},
   "outputs": [],
   "source": [
    "test_string = \"Bobby James\"\n",
    "\n",
    "x = 0 \n",
    "\n",
    "for index in range(len(test_string)):\n",
    "    x += index\n",
    "    print(x)"
   ]
  },
  {
   "cell_type": "markdown",
   "metadata": {},
   "source": [
    "This is a different way to use for loops. We create a string and then use 'range' to run the for loop for as many times as the length of the string. The count for len starts at 0, so each time it would count up from 0 by 1, as you can see in the addition to x each time."
   ]
  }
 ],
 "metadata": {
  "kernelspec": {
   "display_name": "Python 3",
   "language": "python",
   "name": "python3"
  },
  "language_info": {
   "codemirror_mode": {
    "name": "ipython",
    "version": 3
   },
   "file_extension": ".py",
   "mimetype": "text/x-python",
   "name": "python",
   "nbconvert_exporter": "python",
   "pygments_lexer": "ipython3",
   "version": "3.12.3"
  }
 },
 "nbformat": 4,
 "nbformat_minor": 2
}
