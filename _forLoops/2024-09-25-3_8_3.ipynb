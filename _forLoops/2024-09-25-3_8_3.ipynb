{
 "cells": [
  {
   "cell_type": "raw",
   "metadata": {
    "vscode": {
     "languageId": "raw"
    }
   },
   "source": [
    "---\n",
    "layout: post\n",
    "title: 3.8.3 for loops\n",
    "description: Basic concept for for loops\n",
    "permalink: /3.8.3/\n",
    "menu: nav/csp_units/csp_unit3_p1_fundamentals.html\n",
    "---"
   ]
  },
  {
   "cell_type": "markdown",
   "metadata": {
    "vscode": {
     "languageId": "html"
    }
   },
   "source": [
    "## Basics of for loops"
   ]
  },
  {
   "cell_type": "markdown",
   "metadata": {
    "vscode": {
     "languageId": "html"
    }
   },
   "source": [
    "For loops can be used to iterate through a list or to go through a range of numbers.\n",
    "This can be very useful if you want to get each single element of a list or dictionary or even a string.\n",
    "In some cases, a for loop and a while loop can both be used."
   ]
  },
  {
   "cell_type": "code",
   "execution_count": 20,
   "metadata": {},
   "outputs": [
    {
     "name": "stdout",
     "output_type": "stream",
     "text": [
      "t\n",
      "e\n",
      "s\n",
      "t\n",
      "s\n",
      "t\n",
      "r\n",
      "i\n",
      "n\n",
      "g\n"
     ]
    }
   ],
   "source": [
    "for letter in \"teststring\":\n",
    "    print(letter)"
   ]
  },
  {
   "cell_type": "code",
   "execution_count": null,
   "metadata": {},
   "outputs": [],
   "source": [
    "for (let letter of \"teststring\") {\n",
    "    console.log(letter);\n",
    "}"
   ]
  },
  {
   "cell_type": "markdown",
   "metadata": {},
   "source": [
    "t\\\n",
    "e\\\n",
    "s\\\n",
    "t\\\n",
    "r\\\n",
    "i\\\n",
    "n\\\n",
    "g"
   ]
  },
  {
   "cell_type": "markdown",
   "metadata": {
    "vscode": {
     "languageId": "html"
    }
   },
   "source": [
    "The first piece of code is in python and the second is in javascript.\n",
    "Let's breakdown the python code: \n",
    "The first part of the python code is 'for'. The 'for' signifies the start of the loop and that it is a for loop.\n",
    "Then, we create a temporary variable 'letter' that will represent the value for each iteration.\n",
    "Next, we say 'in' followed by a string in this case, but it can be a variable or range as well.\n",
    "Then, in each iteration, we choose to print our temporary variable 'letter'.\n",
    "The for loop will go through each letter in our string and save it as 'letter' in each iteration. Then it will print that letter.\n",
    "Each new iteration will give 'letter' a new value. \n",
    "Next, the javascript part. The first part of the code is again for, creating a for loop\n",
    "Then, we write 'let letter'. This is creating a temporary variable lettere. We write let just as when defining a variable in math.\n",
    "'in' is replaced by 'of' in javascript. \n",
    "Finally, 'console.log' sends a given message to the console."
   ]
  }
 ],
 "metadata": {
  "kernelspec": {
   "display_name": "Python 3",
   "language": "python",
   "name": "python3"
  },
  "language_info": {
   "codemirror_mode": {
    "name": "ipython",
    "version": 3
   },
   "file_extension": ".py",
   "mimetype": "text/x-python",
   "name": "python",
   "nbconvert_exporter": "python",
   "pygments_lexer": "ipython3",
   "version": "3.10.12"
  }
 },
 "nbformat": 4,
 "nbformat_minor": 2
}
